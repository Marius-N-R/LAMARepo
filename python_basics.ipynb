{
 "cells": [
  {
   "attachments": {},
   "cell_type": "markdown",
   "metadata": {},
   "source": [
    "<p style=\"font-size:32pt\">Introduction to Python</p>\n",
    "\n",
    "\n",
    "\n",
    "Python became very popular in the context of machine learning. Out of this reason we are using this programming language within the LAMA course. In particular, we are using the Python 3 standard, since Python 2 was deprecated in 2020. In general python is both a procedural and object oriented programming language. Usually Python gets interpreted on the fly. However, there are also compilers available. Also very important is that Python is using Duck Typing as type system. This means the type of variable is not explicitly given. Rather it is determined by the available methods and variables of the object. \n",
    "\n",
    "Well, enough theory... Let's get started with the code!\n",
    "\n",
    "Kudos to: https://gist.github.com/kenjyco/69eeb503125035f21a9d#file-learning-python3-ipynb (Most parts are taken from here)"
   ]
  },
  {
   "attachments": {},
   "cell_type": "markdown",
   "metadata": {},
   "source": [
    "# About jupyter notebook\n",
    "\n",
    "A jupyter nookbook consists out of cells. On the one hand you have _Code cells_ and _Markdown cells_. In code cells you can write your code and within the markdown cells, some description or documentation. I mean in the end it is quite easy to use, I think you all get familiar with this very quickly. \n",
    "\n",
    "Also have a look at this https://realpython.com/jupyter-notebook-introduction/, if you want to have a deeper dive. "
   ]
  },
  {
   "attachments": {},
   "cell_type": "markdown",
   "metadata": {},
   "source": [
    "# Code style \n",
    "\n",
    "First of all here you will see most code in comparison with C++ code, which should already be familiar to you from the IT lectures.\n",
    "\n",
    "By defining variables, we can refer to things by names that make sense to us. Names for variables can only contain letters, underscores (\\_), or numbers (no spaces, dashes, or other characters). Variable names must start with a letter or underscore.\n",
    "\n",
    "Please have a look at this code style guide to get an idea of good looking code: https://stackabuse.com/introduction-to-the-python-coding-style/"
   ]
  },
  {
   "attachments": {},
   "cell_type": "markdown",
   "metadata": {},
   "source": [
    "# Basics\n",
    "\n",
    "## Python objects, basic types, and variables\n",
    "\n",
    "Everything in Python is an object and every object in Python has a type. Some of the basic types include:\n",
    "\n",
    " - int (integer; a whole number with no decimal place)\n",
    "   - `10`\n",
    "   - `-3`\n",
    " - float (float; a number that has a decimal place)\n",
    "   - `7.41`\n",
    "   - `-0.006`\n",
    " - str (string; a sequence of characters enclosed in single quotes, double quotes, or triple quotes)\n",
    "   - `'this is a string using single quotes'`\n",
    "   - `\"this is a string using double quotes\"`\n",
    "   - Triple quoted strings can be used over multiple lines\n",
    "   - `'''this is a triple quoted string using single quotes'''`\n",
    "   - `\"\"\"this is a triple quoted string using double quotes\"\"\"`\n",
    " - bool (boolean; a binary value that is either true or false)\n",
    "   - Please not the upper case! \n",
    "   - `True`\n",
    "   - `False`\n",
    " - NoneType (a special type representing the absence of a value)\n",
    "   - `None`\n",
    "\n",
    "In Python, a variable is a name you specify in your code that maps to a particular object, object instance, or value.\n",
    "\n"
   ]
  },
  {
   "attachments": {},
   "cell_type": "markdown",
   "metadata": {},
   "source": [
    "## Basic operators\n",
    "\n",
    "In Python, there are different types of operators (special symbols) that operate on different values. Some of the basic operators include:\n",
    "\n",
    "   - arithmetic operators\n",
    "       - \"+\" (addition)\n",
    "       - \"-\" (subtraction)\n",
    "       - \"*\" (multiplication)\n",
    "       - / (division)\n",
    "       - ** (exponent)\n",
    "   - assignment operators\n",
    "       - = (assign a value)\n",
    "       - += (add and re-assign; increment)\n",
    "       - -= (subtract and re-assign; decrement)\n",
    "       - \\*= (multiply and re-assign)\n",
    "   - comparison operators (return either True or False)\n",
    "       - == (equal to)\n",
    "       - != (not equal to)\n",
    "       - < (less than)\n",
    "       - <= (less than or equal to)\n",
    "       - \\> (greater than)\n",
    "       - \\>= (greater than or equal to)\n",
    "\n",
    "When multiple operators are used in a single expression, operator precedence determines which parts of the expression are evaluated in which order. Operators with higher precedence are evaluated first (like PEMDAS in math). Operators with the same precedence are evaluated from left to right.\n",
    "\n",
    "   - () parentheses, for grouping\n",
    "   - ** exponent\n",
    "   - *, / multiplication and division\n",
    "   - +, - addition and subtraction\n",
    "   - ==, !=, <, <=, >, >= comparisons\n",
    "\n",
    "See https://docs.python.org/3/reference/expressions.html#operator-precedence\n",
    "\n"
   ]
  },
  {
   "cell_type": "code",
   "execution_count": null,
   "metadata": {},
   "outputs": [
    {
     "ename": "",
     "evalue": "",
     "output_type": "error",
     "traceback": [
      "\u001b[1;31mRunning cells with '/bin/python3.9' requires the ipykernel package.\n",
      "\u001b[1;31mRun the following command to install 'ipykernel' into the Python environment. \n",
      "\u001b[1;31mCommand: '/bin/python3.9 -m pip install ipykernel -U --user --force-reinstall'"
     ]
    }
   ],
   "source": [
    "number = 10            # int number = 10;\n",
    "text = \"hallo LAMA\"    # std::string text = \"hallo LAMA\"; \n",
    "\n",
    "print(number)          # std::cout << number << std::endl;\n",
    "print(text)            # std::cout << text << std::endl;\n",
    "\n",
    "# Please note that number++, which is wokring in c++ is not available in Python. You have to add 1 in a explicit way\n",
    "number += 1            # number++;\n",
    "# Here is happening the magic of duck typing. In C++ you can to this, but \"0.5\" \n",
    "# is first converted to an integer, which then is \"0\". In python number will change from int to float\n",
    "number += 0.5          \n",
    "\n",
    "print(number)\n",
    "\n",
    "# Of course you can also do multiplication (*), division (/) and modulo (%)\n",
    "# In Python a double asterisk (**) works as exponent, and a double slash (//) as floor division\n",
    "exp = 2 ** 8            # pow(2, 8)\n",
    "floor = 7 // 5          # floor(7.0 / 5.0)\n",
    "print(exp)\n",
    "print(floor)"
   ]
  },
  {
   "cell_type": "code",
   "execution_count": null,
   "metadata": {},
   "outputs": [],
   "source": [
    "# Logic operations:   # same in c++\n",
    "print(2==2)\n",
    "print(2>4)\n",
    "print(\"text\" == \"text\")\n",
    "print(\"text\" != \"adf\")"
   ]
  },
  {
   "cell_type": "code",
   "execution_count": null,
   "metadata": {},
   "outputs": [],
   "source": [
    "# String operations: \n",
    "test = \"test \"                    # std::string test = \"test \";\n",
    "# Multiplication\n",
    "print( test * 3 )                 # not that easy in c++\n",
    "# Appendation\n",
    "test = \"nice \" + test              # test = \"nice \" + test;\n",
    "print(test)\n",
    "# Appendation with reassignment\n",
    "test += \"!\"                       # test += \"!\";\n",
    "print(test)"
   ]
  },
  {
   "attachments": {},
   "cell_type": "markdown",
   "metadata": {},
   "source": [
    "## Some methods on string objects\n",
    "\n",
    "- **`.capitalize()`** to return a capitalized version of the string (only first char uppercase)\n",
    "- **`.upper()`** to return an uppercase version of the string (all chars uppercase)\n",
    "- **`.lower()`** to return an lowercase version of the string (all chars lowercase)\n",
    "- **`.count(substring)`** to return the number of occurences of the substring in the string\n",
    "- **`.startswith(substring)`** to determine if the string starts with the substring\n",
    "- **`.endswith(substring)`** to determine if the string ends with the substring\n",
    "- **`.replace(old, new)`** to return a copy of the string with occurences of the \"old\" replaced by \"new\""
   ]
  },
  {
   "cell_type": "code",
   "execution_count": null,
   "metadata": {},
   "outputs": [],
   "source": [
    "# Assign a string to a variable\n",
    "a_string = 'tHis is a sTriNg'"
   ]
  },
  {
   "cell_type": "code",
   "execution_count": null,
   "metadata": {},
   "outputs": [],
   "source": [
    "# Return a capitalized version of the string\n",
    "a_string.capitalize()"
   ]
  },
  {
   "cell_type": "code",
   "execution_count": null,
   "metadata": {},
   "outputs": [],
   "source": [
    "# Return an uppercase version of the string\n",
    "a_string.upper()"
   ]
  },
  {
   "cell_type": "code",
   "execution_count": null,
   "metadata": {},
   "outputs": [],
   "source": [
    "# Return a lowercase version of the string\n",
    "a_string.lower()"
   ]
  },
  {
   "cell_type": "code",
   "execution_count": null,
   "metadata": {},
   "outputs": [],
   "source": [
    "# Notice that the methods called have not actually modified the string\n",
    "a_string"
   ]
  },
  {
   "cell_type": "code",
   "execution_count": null,
   "metadata": {},
   "outputs": [],
   "source": [
    "# Count number of occurences of a substring in the string\n",
    "a_string.count('i')"
   ]
  },
  {
   "cell_type": "code",
   "execution_count": null,
   "metadata": {},
   "outputs": [],
   "source": [
    "# Count number of occurences of a substring in the string after a certain position\n",
    "a_string.count('i', 7)"
   ]
  },
  {
   "cell_type": "code",
   "execution_count": null,
   "metadata": {},
   "outputs": [],
   "source": [
    "# Count number of occurences of a substring in the string\n",
    "a_string.count('is')"
   ]
  },
  {
   "cell_type": "code",
   "execution_count": null,
   "metadata": {},
   "outputs": [],
   "source": [
    "# Does the string start with 'this'?\n",
    "a_string.startswith('this')"
   ]
  },
  {
   "cell_type": "code",
   "execution_count": null,
   "metadata": {},
   "outputs": [],
   "source": [
    "# Does the lowercase string start with 'this'?\n",
    "a_string.lower().startswith('this')"
   ]
  },
  {
   "cell_type": "code",
   "execution_count": null,
   "metadata": {},
   "outputs": [],
   "source": [
    "# Does the string end with 'Ng'?\n",
    "a_string.endswith('Ng')"
   ]
  },
  {
   "cell_type": "code",
   "execution_count": null,
   "metadata": {},
   "outputs": [],
   "source": [
    "# Return a version of the string with a substring replaced with something else\n",
    "a_string.replace('is', 'XYZ')"
   ]
  },
  {
   "cell_type": "code",
   "execution_count": null,
   "metadata": {},
   "outputs": [],
   "source": [
    "# Return a version of the string with a substring replaced with something else\n",
    "a_string.replace('i', '!')"
   ]
  },
  {
   "cell_type": "code",
   "execution_count": null,
   "metadata": {},
   "outputs": [],
   "source": [
    "# Return a version of the string with the first 2 occurences a substring replaced with something else\n",
    "a_string.replace('i', '!', 2)"
   ]
  },
  {
   "attachments": {},
   "cell_type": "markdown",
   "metadata": {},
   "source": [
    "# Python built-in functions and callables\n",
    "\n",
    "A function is a Python object that you can \"call\" to perform an action or compute and return another object. You call a function by placing parentheses to the right of the function name. Some functions allow you to pass arguments inside the parentheses (separating multiple arguments with a comma). Internal to the function, these arguments are treated like variables.\n",
    "\n",
    "Python has several useful built-in functions to help you work with different objects and/or your environment. Here is a small sample of them:\n",
    "\n",
    "   - type(obj) to determine the type of an object\n",
    "   - len(container) to determine how many items are in a container\n",
    "   - sorted(container) to return a new list from a container, with the items sorted\n",
    "   - sum(container) to compute the sum of a container of numbers\n",
    "   - min(container) to determine the smallest item in a container\n",
    "   - max(container) to determine the largest item in a container\n",
    "   - abs(number) to determine the absolute value of a number\n",
    "\n",
    "    Complete list of built-in functions: https://docs.python.org/3/library/functions.html"
   ]
  },
  {
   "cell_type": "code",
   "execution_count": null,
   "metadata": {},
   "outputs": [],
   "source": [
    "# Use the type() function to determine the type of an object\n",
    "print(type(\"simple_string1\"))\n",
    "\n",
    "# Use the len() function to determine how many items are in a container\n",
    "print(len({'name': 'Jane', 'age': 23, 'fav_foods': ['pizza', 'fruit', 'fish']}))\n",
    "\n",
    "# Use the len() function to determine how many items are in a container\n",
    "print(len(\"test\"))\n",
    "\n",
    "# Use the sorted() function to return a new list from a container, with the items sorted\n",
    "print(sorted([10, 1, 3.6, 7, 5, 2, -3]))\n",
    "\n",
    "# Use the sorted() function to return a new list from a container, with the items sorted\n",
    "# - notice that capitalized strings come first\n",
    "print(sorted(['dogs', 'cats', 'zebras', 'Chicago', 'California', 'ants', 'mice']))\n",
    "\n",
    "# Use the sum() function to compute the sum of a container of numbers\n",
    "print(sum([10, 1, 3.6, 7, 5, 2, -3]))\n",
    "\n",
    "# Use the min() function to determine the smallest item in a container\n",
    "print(min([10, 1, 3.6, 7, 5, 2, -3]))\n",
    "\n",
    "# Use the min() function to determine the smallest item in a container\n",
    "print(min(['g', 'z', 'a', 'y']))\n",
    "\n",
    "# Use the max() function to determine the largest item in a container\n",
    "print(max([10, 1, 3.6, 7, 5, 2, -3]))\n",
    "\n",
    "# Use the max() function to determine the largest item in a container\n",
    "print(max('gibberish'))\n",
    "\n",
    "# Use the abs() function to determine the absolute value of a number\n",
    "print(abs(-12))"
   ]
  },
  {
   "attachments": {},
   "cell_type": "markdown",
   "metadata": {},
   "source": [
    "# Basic containers\n",
    "\n",
    "Containers are objects that can be used to group other objects together. The basic container types include:\n",
    "\n",
    "  -  str (string: immutable; indexed by integers; items are stored in the order they were added)\n",
    "  -  list (list: mutable; indexed by integers; items are stored in the order they were added)\n",
    "      -  `[3, 5, 6, 3, 'dog', 'cat', False]`\n",
    "  -  tuple (tuple: immutable; indexed by integers; items are stored in the order they were added)\n",
    "       - `(3, 5, 6, 3, 'dog', 'cat', False)`\n",
    "  -  set (set: mutable; not indexed at all; items are NOT stored in the order they were added; can only contain immutable objects; does NOT contain duplicate objects)\n",
    "       - `{3, 5, 6, 3, 'dog', 'cat', False}`\n",
    "  -  dict (dictionary: mutable; key-value pairs are indexed by immutable keys; items are NOT stored in the order they were added)\n",
    "       - `{'name': 'Jane', 'age': 23, 'fav_foods': ['pizza', 'fruit', 'fish']}`\n",
    "\n",
    "When defining lists, tuples, or sets, use commas (,) to separate the individual items. When defining dicts, use a colon (:) to separate keys from values and commas (,) to separate the key-value pairs.\n",
    "\n",
    "Strings, lists, and tuples are all sequence types that can use the +, *, +=, and *= operators.\n"
   ]
  },
  {
   "cell_type": "code",
   "execution_count": null,
   "metadata": {},
   "outputs": [],
   "source": [
    "# Containers are easy to create and handle in Python, \n",
    "# also have a look on the c++ implementation in the \n",
    "# comment below each assignment. Lets create some\n",
    "\n",
    "list1 = [3, 5, 6, 3, 'dog', 'cat', False]    \n",
    "   # not that easy to store multiple types in a list. You first need to create a property class, which \n",
    "   # determines the object type and the create a std::vector<Property> from it\n",
    "tuple1 = (3, 5, 6, 3, 'dog', 'cat', False)\n",
    "   # auto tuple1 = std::make_tuple(3, 5, 6, 3, 'dog', 'cat', false); \n",
    "set1 = {3, 5, 6, 3, 'dog', 'cat', False}\n",
    "   # similar to list. You also need to give it a comperator statement in order to decide if the element is already in the set\n",
    "dict1 = {'name': 'Jane', 'age': 23, 'fav_foods': ['pizza', 'fruit', 'fish']}\n",
    "   # c++ offers std::map<T Key, T Value> but it is also restricted to a single data type\n",
    "    \n",
    "    \n",
    "print(list1)\n",
    "# add two elements:\n",
    "list1 += [3, 4]\n",
    "print(list1)"
   ]
  },
  {
   "attachments": {},
   "cell_type": "markdown",
   "metadata": {},
   "source": [
    "## Accessing data in containers\n",
    "\n",
    "For strings, lists, tuples, and dicts, we can use subscript notation (square brackets) to access data at an index.\n",
    "\n",
    "   - strings, lists, and tuples are indexed by integers, starting at 0 for first item\n",
    "       - these sequence types also support accesing a range of items, known as slicing\n",
    "       - use negative indexing to start at the back of the sequence\n",
    "   - dicts are indexed by their keys\n",
    "\n",
    "    Note: sets are not indexed, so we cannot use subscript notation to access data elements.\n",
    "\n"
   ]
  },
  {
   "cell_type": "code",
   "execution_count": null,
   "metadata": {},
   "outputs": [],
   "source": [
    "print(list1[0])\n",
    "# Last index\n",
    "print(list1[-1])\n",
    "# Slicing examples:\n",
    "print(list1[2:4]) #element 2 to 4 = 2 and 3\n",
    "print(list1[4:])  #from element 4 on\n",
    "print(list1[:4])  #until element 4\n",
    "print(list1[::2]) #each 2nd element\n",
    "print(list1[::-1])#reverse list"
   ]
  },
  {
   "attachments": {},
   "cell_type": "markdown",
   "metadata": {
    "collapsed": true,
    "jupyter": {
     "outputs_hidden": true
    }
   },
   "source": [
    "## Some methods on list objects\n",
    "\n",
    "- **`.append(item)`** to add a single item to the list\n",
    "- **`.extend([item1, item2, ...])`** to add multiple items to the list\n",
    "- **`.remove(item)`** to remove a single item from the list\n",
    "- **`.pop()`** to remove and return the item at the end of the list\n",
    "- **`.pop(index)`** to remove and return an item at an index"
   ]
  },
  {
   "cell_type": "code",
   "execution_count": null,
   "metadata": {},
   "outputs": [],
   "source": [
    "test_list = [1,2,4,5]\n",
    "print(test_list)\n",
    "test_list.append(6)\n",
    "print(test_list)\n",
    "test_list.remove(2)\n",
    "print(test_list)\n",
    "test_list.extend([4,5,6])\n",
    "print(test_list)\n",
    "print(test_list.pop())"
   ]
  },
  {
   "cell_type": "code",
   "execution_count": null,
   "metadata": {},
   "outputs": [],
   "source": [
    "#Task: Your number sequence has some wholes and missing parts. Write a short code to complete the list\n",
    "\n",
    "your_list = [1,3,4,5,7,9,10,12,13,14]"
   ]
  },
  {
   "attachments": {},
   "cell_type": "markdown",
   "metadata": {},
   "source": [
    "## Some methods on dict objects\n",
    "\n",
    "- **`.update([(key1, val1), (key2, val2), ...])`** to add multiple key-value pairs to the dict\n",
    "- **`.update(dict2)`** to add all keys and values from another dict to the dict\n",
    "- **`.pop(key)`** to remove key and return its value from the dict (error if key not found)\n",
    "- **`.pop(key, default_val)`** to remove key and return its value from the dict (or return default_val if key not found)\n",
    "- **`.get(key)`** to return the value at a specified key in the dict (or None if key not found)\n",
    "- **`.get(key, default_val)`** to return the value at a specified key in the dict (or default_val if key not found)\n",
    "- **`.keys()`** to return a list of keys in the dict\n",
    "- **`.values()`** to return a list of values in the dict\n",
    "- **`.items()`** to return a list of key-value pairs (tuples) in the dict"
   ]
  },
  {
   "cell_type": "code",
   "execution_count": null,
   "metadata": {},
   "outputs": [],
   "source": [
    "my_dict = {\"apple\":\"green\", \"cherry\":\"red\", \"banana\":\"yellow\"}\n",
    "print(my_dict)\n",
    "my_dict.update([(\"grape\",\"purple\")])\n",
    "print(my_dict)\n",
    "my_dict['orange'] = \"orange\" # works also \n",
    "print(my_dict)\n",
    "my_dict.pop(\"apple\")\n",
    "print(my_dict)\n",
    "my_dict.keys()"
   ]
  },
  {
   "attachments": {},
   "cell_type": "markdown",
   "metadata": {},
   "source": [
    "# Positional arguments and keyword arguments to callables\n",
    "\n",
    "You can call a function/method in a number of different ways:\n",
    "\n",
    "- `func()`: Call `func` with no arguments\n",
    "- `func(arg)`: Call `func` with one positional argument\n",
    "- `func(arg1, arg2)`: Call `func` with two positional arguments\n",
    "- `func(arg1, arg2, ..., argn)`: Call `func` with many positional arguments\n",
    "- `func(kwarg=value)`: Call `func` with one keyword argument \n",
    "- `func(kwarg1=value1, kwarg2=value2)`: Call `func` with two keyword arguments\n",
    "- `func(kwarg1=value1, kwarg2=value2, ..., kwargn=valuen)`: Call `func` with many keyword arguments\n",
    "- `func(arg1, arg2, kwarg1=value1, kwarg2=value2)`: Call `func` with positonal arguments and keyword arguments\n",
    "\n",
    "When using **positional arguments**, you must provide them in the order that the function defined them (the function's **signature**).\n",
    "\n",
    "When using **keyword arguments**, you can provide the arguments you want, in any order you want, as long as you specify each argument's name.\n",
    "\n",
    "When using positional and keyword arguments, positional arguments must come first."
   ]
  },
  {
   "cell_type": "code",
   "execution_count": null,
   "metadata": {},
   "outputs": [],
   "source": [
    "# One example for this is the string replace function:\n",
    "input_string = \"a sentence with a lot of a's\"\n",
    "print(input_string.replace(\"a\", \"e\")) # call with two arguments\n",
    "print(input_string.replace(\"a\", \"e\", 2)) # call with three arguments. The last one (limit parameter) is optional "
   ]
  },
  {
   "attachments": {},
   "cell_type": "markdown",
   "metadata": {},
   "source": [
    "# Functions and methods\n",
    "\n",
    "In python functions have the following syntax: `def NAME(PARAMETERS):`. Please remember to indent the code of your method then. In general, you should always try to encapsulate your code in methods in order to make them reusable.\n",
    "Now a look at the example... \n"
   ]
  },
  {
   "cell_type": "code",
   "execution_count": null,
   "metadata": {},
   "outputs": [],
   "source": [
    "#function without return \n",
    "def print_double(x):\n",
    "    print(x*2)\n",
    "    \n",
    "#function with return\n",
    "def get_double(x):\n",
    "    return x*2\n",
    "\n",
    "#test\n",
    "x1 = print_double(10)\n",
    "x2 = get_double(10)\n",
    "\n",
    "print(x1)  # as you might notice x1 is None, since the function does not return anything\n",
    "print(x2)"
   ]
  },
  {
   "attachments": {},
   "cell_type": "markdown",
   "metadata": {},
   "source": [
    "## Classes: Creating your own objects"
   ]
  },
  {
   "cell_type": "code",
   "execution_count": null,
   "metadata": {},
   "outputs": [],
   "source": [
    "# Define a new class called `Thing` that is derived from the base Python object\n",
    "class Thing(object):\n",
    "    my_property = 'I am a \"Thing\"'\n",
    "\n",
    "\n",
    "# Define a new class called `DictThing` that is derived from the `dict` type\n",
    "class DictThing(dict):\n",
    "    my_property = 'I am a \"DictThing\"'"
   ]
  },
  {
   "cell_type": "code",
   "execution_count": null,
   "metadata": {},
   "outputs": [],
   "source": [
    "print(Thing)\n",
    "print(type(Thing))\n",
    "print(DictThing)\n",
    "print(type(DictThing))\n",
    "print(issubclass(DictThing, dict))\n",
    "print(issubclass(DictThing, object))"
   ]
  },
  {
   "cell_type": "code",
   "execution_count": null,
   "metadata": {},
   "outputs": [],
   "source": [
    "# Create \"instances\" of our new classes\n",
    "t = Thing()\n",
    "d = DictThing()\n",
    "print(t)\n",
    "print(type(t))\n",
    "print(d)\n",
    "print(type(d))"
   ]
  },
  {
   "cell_type": "code",
   "execution_count": null,
   "metadata": {},
   "outputs": [],
   "source": [
    "# Interact with a DictThing instance just as you would a normal dictionary\n",
    "d['name'] = 'Sally'\n",
    "print(d)"
   ]
  },
  {
   "cell_type": "code",
   "execution_count": null,
   "metadata": {},
   "outputs": [],
   "source": [
    "d.update({\n",
    "        'age': 13,\n",
    "        'fav_foods': ['pizza', 'sushi', 'pad thai', 'waffles'],\n",
    "        'fav_color': 'green',\n",
    "    })\n",
    "print(d)"
   ]
  },
  {
   "cell_type": "code",
   "execution_count": null,
   "metadata": {},
   "outputs": [],
   "source": [
    "print(d.my_property)"
   ]
  },
  {
   "attachments": {},
   "cell_type": "markdown",
   "metadata": {},
   "source": [
    "# Formatting strings and using placeholders\n",
    "\n",
    "In order to print your results in a much nicer and readable way you can use the build in format function. You can also have a look at this website: https://pyformat.info\n"
   ]
  },
  {
   "cell_type": "code",
   "execution_count": null,
   "metadata": {},
   "outputs": [],
   "source": [
    "number1 = 3\n",
    "number2 = 3.412545\n",
    "number3 = 4.2133\n",
    "# the brackets are automatically replaced with the given values\n",
    "print(\"Number 1 is: {}, Number 2 is: {}, Number 3 is: {}\".format(number1, number2, number3))\n",
    "# you can use number formating as well\n",
    "print(\"Number 1 is: {:.3f}, Number 2 is: {:.3f}, Number 3 is: {:.3f}\".format(number1, number2, number3))\n",
    "# or like this\n",
    "print(\"Number 1 is: {:08.3f}, Number 2 is: {:+.3f}, Number 3 is: {:.2f}\".format(number1, number2, number3))\n",
    "\n"
   ]
  },
  {
   "cell_type": "code",
   "execution_count": null,
   "metadata": {},
   "outputs": [],
   "source": [
    "# you can also do alignment:\n",
    "print(\"Number1: {:>10}\\nNumber2: {:>10}\\nNumber3: {:>10}\".format(number1, number2, number3))"
   ]
  },
  {
   "attachments": {},
   "cell_type": "markdown",
   "metadata": {},
   "source": [
    "# Control flow\n",
    "\n",
    "## Python \"for loops\"\n",
    "\n",
    "It is easy to **iterate** over a collection of items using a **for loop**. The strings, lists, tuples, sets, and dictionaries we defined are all **iterable** containers.\n",
    "\n",
    "The for loop will go through the specified container, one item at a time, and provide a temporary variable for the current item. You can use this temporary variable like a normal variable."
   ]
  },
  {
   "cell_type": "code",
   "execution_count": null,
   "metadata": {},
   "outputs": [],
   "source": [
    "#Simple example\n",
    "my_list = [1,2,3,4]\n",
    "for item in my_list:\n",
    "    print(item)\n",
    "    \n",
    "#Also works for tuples\n",
    "my_tuples = [(1,\"a\"), (2,\"b\"), (3, \"c\"), (4, \"d\")]\n",
    "for number, letter in my_tuples:\n",
    "    print(number, letter)"
   ]
  },
  {
   "cell_type": "code",
   "execution_count": null,
   "metadata": {},
   "outputs": [],
   "source": [
    "# Task: Build an list with each second number in a range from 0 to 100 using a for loop. \n",
    "# The result should look like this: 0,2,4,6,8,10,....\n",
    "\n"
   ]
  },
  {
   "attachments": {},
   "cell_type": "markdown",
   "metadata": {},
   "source": [
    "## Python \"if statements\" and \"while loops\"\n",
    "\n",
    "Conditional expressions can be used with these two **conditional statements**.\n",
    "\n",
    "The **if statement** allows you to test a condition and perform some actions if the condition evaluates to `True`. You can also provide `elif` and/or `else` clauses to an if statement to take alternative actions if the condition evaluates to `False`.\n",
    "\n",
    "The **while loop** will keep looping until its conditional expression evaluates to `False`.\n",
    "\n",
    "> Note: It is possible to \"loop forever\" when using a while loop with a conditional expression that never evaluates to `False`.\n",
    ">\n",
    "> Note: Since the **for loop** will iterate over a container of items until there are no more, there is no need to specify a \"stop looping\" condition."
   ]
  },
  {
   "cell_type": "code",
   "execution_count": null,
   "metadata": {},
   "outputs": [],
   "source": [
    "# Well this is similar to c++...\n",
    "if(2==2):\n",
    "    print(\"they are indeed equal\")\n",
    "    \n",
    "x = 10 # Enter a number\n",
    "\n",
    "if(x > 10):\n",
    "    print(\"a\")\n",
    "else:\n",
    "    print(\"b\")"
   ]
  },
  {
   "cell_type": "code",
   "execution_count": null,
   "metadata": {},
   "outputs": [],
   "source": [
    "# While loops are also available:\n",
    "i = 1\n",
    "while i < 6:\n",
    "    print(i)\n",
    "    i += 1"
   ]
  },
  {
   "attachments": {},
   "cell_type": "markdown",
   "metadata": {},
   "source": [
    "# List, set, and dict comprehensions\n",
    "\n",
    "List comprehensions provide a concise way to create lists. You can use them to increase readability of your code and to shorten things up.\n",
    "\n",
    "It consists of brackets containing an expression followed by a for clause, then\n",
    "zero or more for or if clauses. The expressions can be anything, meaning you can\n",
    "put in all kinds of objects in lists.\n",
    "\n",
    "The result will be a new list resulting from evaluating the expression in the\n",
    "context of the for and if clauses which follow it. \n",
    "\n",
    "The list comprehension always returns a result list. \n",
    "\n",
    "\\[Source: https://www.pythonforbeginners.com/basics/list-comprehensions-in-python \\]"
   ]
  },
  {
   "cell_type": "code",
   "execution_count": null,
   "metadata": {},
   "outputs": [],
   "source": [
    "# You can either use loops:\n",
    "squares = []\n",
    "\n",
    "for x in range(10):\n",
    "    squares.append(x**2)\n",
    " \n",
    "print(squares)\n",
    "\n",
    "# Or you can use list comprehensions to get the same result:\n",
    "squares = [x**2 for x in range(10)]\n",
    "\n",
    "print(squares)"
   ]
  },
  {
   "cell_type": "code",
   "execution_count": null,
   "metadata": {},
   "outputs": [],
   "source": [
    "# You can also do a filter (in this case filter the odds) using list comprehension:\n",
    "\n",
    "data = [0,1,2,3,4,5,6,7,8,9,10]\n",
    "evens = []\n",
    "# For implementation:\n",
    "for element in data:\n",
    "    if element % 2 == 0:\n",
    "        evens.append(element)\n",
    "        \n",
    "print(evens)\n",
    "\n",
    "# List comprehension\n",
    "evens = [element for element in data if element % 2 == 0]\n",
    "print(evens)"
   ]
  },
  {
   "cell_type": "code",
   "execution_count": null,
   "metadata": {},
   "outputs": [],
   "source": [
    "# It is also capable of handlign multiple arguments. But at some point readability might even suffer from this:\n",
    "permutations = [x+y for x in [10,30,50] for y in [20,40,60]]\n",
    "print(permutations)"
   ]
  },
  {
   "attachments": {},
   "cell_type": "markdown",
   "metadata": {},
   "source": [
    "# Outlook, Further reading\n",
    "\n",
    "I think now you have an idea of the Python syntax and data handling. However, there are still plenty of functions and types missing, especially the python magic. \n",
    "\n",
    "For instance we only covered the basics in classes and object orientation during this introduction. This is quite similar to C++ so please have a look at OO by yourself. You probably won't need it during the LAMA task sessions but maybe during the \"into the wild... \" part. \n",
    "\n",
    "And as you might know, if there are any questions, feel free to consult stackoverflow.com or ask the LAMA supervisors. \n",
    "\n"
   ]
  },
  {
   "attachments": {},
   "cell_type": "markdown",
   "metadata": {},
   "source": [
    "# Assignments\n",
    "\n",
    "To strengthen your knowledge on Python we have prepared three small tasks. You are free to solve them here in this notebook. This is not mandatory. But we strongly recommend you doing the tasks in order to be prepared for the next sessions."
   ]
  },
  {
   "attachments": {},
   "cell_type": "markdown",
   "metadata": {},
   "source": [
    "## Task 1: Fibonacci\n",
    "\n",
    "This is a quite standard one: Write a program that asks the user how many Fibonnaci numbers to generate and then generates them. Take this opportunity to think about how you can use functions. Make sure to ask the user to enter the number of numbers in the sequence to generate.(Hint: The Fibonnaci seqence is a sequence of numbers where the next number in the sequence is the sum of the previous two numbers in the sequence. The sequence looks like this: 1, 1, 2, 3, 5, 8, 13, …)\n",
    "\n",
    "Hint: Define a function, which calculates the Fibonacci numbers. Make us of the `yield` generator in python: https://www.python-kurs.eu/generatoren.php\n"
   ]
  },
  {
   "cell_type": "code",
   "execution_count": null,
   "metadata": {},
   "outputs": [],
   "source": [
    "###STUDENT CODE###\n",
    "def fibonnacci(n):\n",
    "    a,b = 0,1\n",
    "    for _ in range(n):\n",
    "        yield a\n",
    "        a,b = b,a+b\n",
    "number = int(input(\"How many Fibonnacci numbers do you want to generate?\"))\n",
    "print(list(fibonnacci(number)))\n",
    "###STUDENT CODE###"
   ]
  },
  {
   "attachments": {},
   "cell_type": "markdown",
   "metadata": {},
   "source": [
    "## Task 2: Guess a number game\n",
    "\n",
    "Generate a random number between 1 and 9 (including 1 and 9). Ask the user to guess the number, then tell them whether they guessed too low, too high, or exactly right. (using the input function)\n",
    "\n",
    "Extras:\n",
    "\n",
    "  -  Keep the game going until the user types “exit”\n",
    "  -  Keep track of how many guesses the user has taken, and when the game ends, print this out.\n",
    "\n"
   ]
  },
  {
   "cell_type": "code",
   "execution_count": null,
   "metadata": {},
   "outputs": [],
   "source": [
    "import random\n",
    "\n",
    "a = random.randint(1,9)\n",
    "\n",
    "print(a)\n",
    "\n",
    "# Your code here .........."
   ]
  },
  {
   "attachments": {},
   "cell_type": "markdown",
   "metadata": {},
   "source": [
    "## Task 3: Rock Paper Scissors\n",
    "\n",
    "Make a two-player Rock-Paper-Scissors game. (Hint: Ask for player plays (using the input function), compare them, print out a message of congratulations to the winner, and ask if the players want to start a new game)\n",
    "\n",
    "Remember the rules:\n",
    "\n",
    "  -  Rock beats scissors\n",
    "  -  Scissors beats paper\n",
    "  -  Paper beats rock\n"
   ]
  },
  {
   "cell_type": "code",
   "execution_count": null,
   "metadata": {},
   "outputs": [],
   "source": []
  }
 ],
 "metadata": {
  "kernelspec": {
   "display_name": "Python 3 (ipykernel)",
   "language": "python",
   "name": "python3"
  },
  "language_info": {
   "codemirror_mode": {
    "name": "ipython",
    "version": 3
   },
   "file_extension": ".py",
   "mimetype": "text/x-python",
   "name": "python",
   "nbconvert_exporter": "python",
   "pygments_lexer": "ipython3",
   "version": "3.9.16"
  },
  "toc": {
   "base_numbering": 1,
   "nav_menu": {},
   "number_sections": true,
   "sideBar": true,
   "skip_h1_title": false,
   "title_cell": "Table of Contents",
   "title_sidebar": "Contents",
   "toc_cell": false,
   "toc_position": {
    "height": "calc(100% - 180px)",
    "left": "10px",
    "top": "150px",
    "width": "384px"
   },
   "toc_section_display": true,
   "toc_window_display": true
  }
 },
 "nbformat": 4,
 "nbformat_minor": 4
}
